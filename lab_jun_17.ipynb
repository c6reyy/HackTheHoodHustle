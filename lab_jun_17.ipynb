{
  "nbformat": 4,
  "nbformat_minor": 0,
  "metadata": {
    "colab": {
      "provenance": [],
      "mount_file_id": "18y3AL6PMKdVjPqjtnasSn0diH1mFbwAN",
      "authorship_tag": "ABX9TyOgzyCTzJtm9mw5K9ymRDsc",
      "include_colab_link": true
    },
    "kernelspec": {
      "name": "python3",
      "display_name": "Python 3"
    },
    "language_info": {
      "name": "python"
    }
  },
  "cells": [
    {
      "cell_type": "markdown",
      "metadata": {
        "id": "view-in-github",
        "colab_type": "text"
      },
      "source": [
        "<a href=\"https://colab.research.google.com/github/c6reyy/HackTheHoodHustle/blob/main/lab_jun_17.ipynb\" target=\"_parent\"><img src=\"https://colab.research.google.com/assets/colab-badge.svg\" alt=\"Open In Colab\"/></a>"
      ]
    },
    {
      "cell_type": "markdown",
      "source": [],
      "metadata": {
        "id": "Gf7SNfHIxu-M"
      }
    },
    {
      "cell_type": "markdown",
      "source": [
        "  # Lab Jun. 17th\n",
        "\n",
        "  Intro to Psuedocode\n"
      ],
      "metadata": {
        "id": "pI2c4cd6y7T6"
      }
    },
    {
      "cell_type": "markdown",
      "source": [
        "# Rules to  define variables\n",
        "\n",
        "\n",
        "1) Must Start with a Letteror _Underscore\n",
        "\n",
        "2) Consists of Letters, Numbers, and Underscores but it will not start with a Number\n",
        "\n",
        "3) Variables names are case sensitive"
      ],
      "metadata": {
        "id": "auHhwl320Xoa"
      }
    },
    {
      "cell_type": "code",
      "source": [
        "car = \"Mercedes\"\n",
        "car = \"Audi\""
      ],
      "metadata": {
        "colab": {
          "base_uri": "https://localhost:8080/"
        },
        "id": "LmfOSN4Y0cdN",
        "outputId": "84e3e330-9ce3-451b-8de5-f01938c45a35"
      },
      "execution_count": 7,
      "outputs": [
        {
          "output_type": "stream",
          "name": "stdout",
          "text": [
            "Audi\n"
          ]
        }
      ]
    },
    {
      "cell_type": "code",
      "source": [
        "print(car)"
      ],
      "metadata": {
        "colab": {
          "base_uri": "https://localhost:8080/"
        },
        "id": "lhbHwlim1nDN",
        "outputId": "d4aa16d2-20ab-4072-fd75-8964e32d835f"
      },
      "execution_count": 19,
      "outputs": [
        {
          "output_type": "stream",
          "name": "stdout",
          "text": [
            "Mercedes\n"
          ]
        }
      ]
    },
    {
      "cell_type": "markdown",
      "source": [
        "### Psuedocode for my application\n",
        "\n",
        "I want to write a program that takes user input and prints it back to the screen\n",
        "\n",
        "`First_name` the user's first name\n",
        "\n",
        "`Last_name` the user's last name\n",
        "\n",
        "`Age` the user's age\n",
        "\n",
        "`Fav_Color` the user's favorite color\n",
        "\n",
        "`Fav_Sport` the user's favorite sport\n",
        "\n",
        "`Fav_Team` the user's favorite team\n",
        "\n",
        "use a 'built in' process to take user's data.\n",
        "\n",
        "use a 'built in' display user's data."
      ],
      "metadata": {
        "id": "hXACaua11wAF"
      }
    },
    {
      "cell_type": "markdown",
      "source": [
        "# Code for my application"
      ],
      "metadata": {
        "id": "VbORAgSH3Dln"
      }
    },
    {
      "cell_type": "code",
      "source": [
        "First_name = 'Corey'\n",
        "Last_name = 'Co'\n",
        "Age = 17\n",
        "Fav_Color = 'Red'\n",
        "Fav_Sport = 'Basketball'\n",
        "Fav_Team = 'Real_Madrid'"
      ],
      "metadata": {
        "id": "AP9aDUN63FS4"
      },
      "execution_count": 17,
      "outputs": []
    },
    {
      "cell_type": "code",
      "source": [
        "First_name = input('What is your first name? ')\n",
        "# In this line I am using the input method to ask the user's first name\n",
        "\n",
        "\n",
        "Last_Name = input('What is your last name? ')\n",
        "# In this line I am using the input method to ask the user's last name\n",
        "\n",
        "Age = input('What is your age? ')\n",
        "# In this line I am using the input method to ask the user's age\n",
        "\n",
        "\n",
        "Fav_Colour = input('What is your favourite colour? ')\n",
        "# In this line I am using the input method to ask the user's favorite color\n",
        "\n",
        "\n",
        "Fav_Sport = input('What is your favourite sport? ')\n",
        "# In this line I am using the input method to ask the user's favorite sport\n",
        "\n",
        "Fav_Team = input('What is your favourite team? ')\n",
        "# In this line I am using the input method to ask the user's favorite team"
      ],
      "metadata": {
        "colab": {
          "base_uri": "https://localhost:8080/"
        },
        "id": "O-wDldzV3y-a",
        "outputId": "a785b401-f077-4654-fa5f-4ccd75b5bf5d"
      },
      "execution_count": 27,
      "outputs": [
        {
          "name": "stdout",
          "output_type": "stream",
          "text": [
            "What is your first name? Corey\n",
            "What is your last name? Co\n",
            "What is your age? 17\n",
            "What is your favourite colour? Red\n",
            "What is your favourite sport? Basketball\n",
            "What is your favourite team? Real Madrid\n"
          ]
        }
      ]
    },
    {
      "cell_type": "code",
      "source": [
        "print(f\"User first name is, {First_name}, last name is, {Last_Name}, age is, {Age},\\\n",
        " favourite colour is, {Fav_Colour}, favourite sport is, {Fav_Sport}, favourite team is, {Fav_Team}\")"
      ],
      "metadata": {
        "colab": {
          "base_uri": "https://localhost:8080/"
        },
        "id": "JR-MHDTH5f5T",
        "outputId": "077f3704-d8f0-4231-8641-0e85601289b0"
      },
      "execution_count": 33,
      "outputs": [
        {
          "output_type": "stream",
          "name": "stdout",
          "text": [
            "User first name is, Corey, last name is, Co, age is, 17, favourite colour is, Red, favourite sport is, Basketball, favourite team is, Real Madrid\n"
          ]
        }
      ]
    },
    {
      "cell_type": "markdown",
      "source": [
        "# F String Format"
      ],
      "metadata": {
        "id": "7rdlXhX56qAB"
      }
    },
    {
      "cell_type": "code",
      "source": [
        "greetings = 'Hello'\n",
        "name = 'John'"
      ],
      "metadata": {
        "id": "JZBa6Xqy6qMS"
      },
      "execution_count": 39,
      "outputs": []
    },
    {
      "cell_type": "code",
      "source": [
        "print (\"hello there, John\")"
      ],
      "metadata": {
        "colab": {
          "base_uri": "https://localhost:8080/"
        },
        "id": "MDImErUO7F9g",
        "outputId": "b7f9b0b8-c10a-4244-f644-43b944c9b0f0"
      },
      "execution_count": 36,
      "outputs": [
        {
          "output_type": "stream",
          "name": "stdout",
          "text": [
            "hello there, John\n"
          ]
        }
      ]
    },
    {
      "cell_type": "code",
      "source": [
        "print(f\"{greetings} there, {name}\")"
      ],
      "metadata": {
        "colab": {
          "base_uri": "https://localhost:8080/"
        },
        "id": "4QTF6ik462x-",
        "outputId": "a59fcc2e-e78f-468b-b4a8-5685dea9b830"
      },
      "execution_count": 41,
      "outputs": [
        {
          "output_type": "stream",
          "name": "stdout",
          "text": [
            "Hello there, John\n"
          ]
        }
      ]
    },
    {
      "cell_type": "code",
      "source": [
        "print(\"Hello there, General Kenobi\")"
      ],
      "metadata": {
        "colab": {
          "base_uri": "https://localhost:8080/"
        },
        "id": "DmKcBM_l6eXT",
        "outputId": "f8555c94-bbe3-427c-85e3-e47e848e8f41"
      },
      "execution_count": 42,
      "outputs": [
        {
          "output_type": "stream",
          "name": "stdout",
          "text": [
            "Hello there, General Kenobi\n"
          ]
        }
      ]
    }
  ]
}