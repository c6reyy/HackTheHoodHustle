{
  "nbformat": 4,
  "nbformat_minor": 0,
  "metadata": {
    "colab": {
      "provenance": [],
      "authorship_tag": "ABX9TyPYUowvbvVXPI2x3v5A2Kuy",
      "include_colab_link": true
    },
    "kernelspec": {
      "name": "python3",
      "display_name": "Python 3"
    },
    "language_info": {
      "name": "python"
    }
  },
  "cells": [
    {
      "cell_type": "markdown",
      "metadata": {
        "id": "view-in-github",
        "colab_type": "text"
      },
      "source": [
        "<a href=\"https://colab.research.google.com/github/c6reyy/HackTheHoodHustle/blob/main/Lab_3_Shopping_Cart.ipynb\" target=\"_parent\"><img src=\"https://colab.research.google.com/assets/colab-badge.svg\" alt=\"Open In Colab\"/></a>"
      ]
    },
    {
      "cell_type": "markdown",
      "source": [],
      "metadata": {
        "id": "aE5iTJUhyraP"
      }
    },
    {
      "cell_type": "markdown",
      "source": [
        "# Shopping Cart\n",
        "\n",
        "## Part I\n",
        "\n",
        "1. What do I have?\n",
        "- I have the variables I want to use.\n",
        "- I have defined a way to check if something is already on my cart.\n",
        "- I have a way to ask the user for data.\n",
        "\n",
        "2. What do I want?\n",
        "- I want to start the process of building a shopping cart.\n",
        "\n",
        "\n",
        "3. What do I need?\n",
        "- a place to hold items.\n",
        "\n",
        "  `cart`\n",
        "\n",
        "a way to add items to our list.\n",
        "\n",
        "  `cart.append()`\n",
        "\n",
        "a way to print the itmes in our list.\n",
        "  \n",
        "  `print(\"STUFF\")`\n",
        "\n",
        "a way to check if an item is already on that list. (optional)\n",
        "  \n",
        "\n",
        "    `if` item is on the cart\n",
        "    `then` do something\n",
        "    `else` do something else\n",
        "\n",
        "\n",
        "The application will ask the user for items and then add them to a list which we call cart. then a process will check if the item entered is on the list and if it is, the item will not be placed on that list."
      ],
      "metadata": {
        "id": "yqbygetQyt-v"
      }
    },
    {
      "cell_type": "code",
      "execution_count": 1,
      "metadata": {
        "id": "o6Z3d5_nrZZE"
      },
      "outputs": [],
      "source": [
        "cart =[]"
      ]
    },
    {
      "cell_type": "code",
      "source": [
        "cart.append('tacos')\n",
        "#TODO: Commant this line\n",
        "\n",
        "print(f\"The items in your cart are: {cart}\")\n",
        "#TODO: Commant this\n"
      ],
      "metadata": {
        "id": "nQP8C9My3G77"
      },
      "execution_count": 11,
      "outputs": []
    },
    {
      "cell_type": "code",
      "source": [
        "print(f\"The items in your cart are: {cart}\")\n",
        "item = input('What would you like to add to the shopping cart? ')\n",
        "#TODO: Commant this line\n",
        "'''\n",
        "`if` item is on the cart\n",
        "`then`   do something\n",
        "`else`   do somethign else\n",
        "'''\n",
        "if item in cart:\n",
        "    print(f'{item} is already on the cart.')\n",
        "else:\n",
        "    cart.append(item)\n",
        "    #TODO: Commant this line\n",
        "print(f\"The items in your cart are: {cart}\")\n",
        "#TODO: Commant this line"
      ],
      "metadata": {
        "colab": {
          "base_uri": "https://localhost:8080/"
        },
        "id": "AloKI65C3HJ_",
        "outputId": "031b6cdb-4936-489a-b8ac-b5f4e39d1aa8"
      },
      "execution_count": null,
      "outputs": [
        {
          "output_type": "stream",
          "name": "stdout",
          "text": [
            "The items in your cart are: ['tacos', 'tacos', 'tacos', 'Apples', 'tacos', 'Ice Cream']\n"
          ]
        }
      ]
    },
    {
      "cell_type": "code",
      "source": [],
      "metadata": {
        "id": "s67uacqu3HM3"
      },
      "execution_count": null,
      "outputs": []
    },
    {
      "cell_type": "code",
      "source": [],
      "metadata": {
        "id": "S36jrdVs3HPd"
      },
      "execution_count": null,
      "outputs": []
    },
    {
      "cell_type": "code",
      "source": [],
      "metadata": {
        "id": "sxCvtj7q3HSV"
      },
      "execution_count": null,
      "outputs": []
    },
    {
      "cell_type": "code",
      "source": [],
      "metadata": {
        "id": "17Rlryd73Eif"
      },
      "execution_count": null,
      "outputs": []
    }
  ]
}